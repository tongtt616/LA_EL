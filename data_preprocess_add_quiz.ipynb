{
 "cells": [
  {
   "cell_type": "code",
   "execution_count": 5,
   "metadata": {},
   "outputs": [],
   "source": [
    "import pandas as pd"
   ]
  },
  {
   "cell_type": "markdown",
   "metadata": {},
   "source": [
    "# grade"
   ]
  },
  {
   "cell_type": "code",
   "execution_count": 6,
   "metadata": {},
   "outputs": [],
   "source": [
    "g4 = pd.read_excel('./数据处理/grade/4.grades_TsinghuaX-20220332_1X-_.xlsx')\n",
    "g5 = pd.read_excel('./数据处理/grade/5.grades_TsinghuaX-20220332_2X-_.xlsx')\n",
    "g6 = pd.read_excel('./数据处理/grade/6.grades_TsinghuaX-30240184_1X-_.xlsx')\n",
    "g8 = pd.read_excel('./数据处理/grade/8.grades_TsinghuaX-80000901_1X-_.xlsx')\n",
    "g10 = pd.read_excel('./数据处理/grade/10.grades_TsinghuaX-80512073_2014_1X-_.xlsx')\n",
    "g11 = pd.read_excel('./数据处理/grade/11.grades_TsinghuaX-80512073X-_.xlsx')"
   ]
  },
  {
   "cell_type": "code",
   "execution_count": 7,
   "metadata": {},
   "outputs": [],
   "source": [
    "import re\n",
    "def helper(x):\n",
    "    quiz_avg = None\n",
    "    quiz_count = 0\n",
    "    if 'Quiz Avg' in x.columns:\n",
    "        quiz_avg = x['Quiz Avg']\n",
    "        quiz_count = len([c for c in x.columns if re.findall('Quiz \\d+', c)])\n",
    "    elif 'HW Avg' in x.columns:\n",
    "        quiz_avg = x['HW Avg']\n",
    "        quiz_count = len([c for c in x.columns if re.findall('HW \\d+', c)])\n",
    "    elif '作业总评' in x.columns:\n",
    "        quiz_cols = [c for c in x.columns if c.endswith('习题')]\n",
    "\n",
    "        quiz_avg = x[quiz_cols].mean(axis=1)\n",
    "        quiz_count = len(quiz_cols)\n",
    "\n",
    "    elif '加分' in x.columns:\n",
    "        # quiz_cols = [c for c in x.columns if re.findall('PS|PA \\d+', 'PA 01')]\n",
    "        quiz_cols = [c for c in x.columns if re.findall('PS|PA \\d+', c)]\n",
    "        quiz_avg = x[quiz_cols].mean(axis=1)\n",
    "        quiz_count = len(quiz_cols)\n",
    "    return quiz_avg, quiz_count"
   ]
  },
  {
   "cell_type": "code",
   "execution_count": null,
   "metadata": {},
   "outputs": [],
   "source": [
    "\n",
    "courseid_list = ['TsinghuaX/20220332_1X/_', 'TsinghuaX/20220332_2X/_', 'TsinghuaX/30240184_1X/_',\n",
    " 'TsinghuaX/80000901_1X/_', 'TsinghuaX/80512073_2014_1X/_2014_', 'TsinghuaX/80512073X/_']\n",
    "grades = []\n",
    "for i, x in enumerate([g4, g5, g6, g8, g10, g11]):\n",
    "    print(x.shape)\n",
    "    col1, col2 = 'ID', 'Total'\n",
    "    if '总分(百分制）' in x.columns:\n",
    "        col2 = '总分(百分制）'\n",
    "    if '总分' in x.columns:\n",
    "        col2 = '总分'\n",
    "    if 'user ID' in x.columns:\n",
    "        col1 = 'user ID'\n",
    "    _df = x[[col1, col2]]\n",
    "    _df.columns = ['userid', 'total']\n",
    "    _df['courseid'] = courseid_list[i]\n",
    "    quiz_avg, quiz_count = helper(x)\n",
    "    _df['quiz_avg'] = quiz_avg\n",
    "    _df['quiz_count'] = quiz_count\n",
    "    grades.append(_df)\n"
   ]
  },
  {
   "cell_type": "code",
   "execution_count": 9,
   "metadata": {},
   "outputs": [
    {
     "data": {
      "text/html": [
       "<div>\n",
       "<style scoped>\n",
       "    .dataframe tbody tr th:only-of-type {\n",
       "        vertical-align: middle;\n",
       "    }\n",
       "\n",
       "    .dataframe tbody tr th {\n",
       "        vertical-align: top;\n",
       "    }\n",
       "\n",
       "    .dataframe thead th {\n",
       "        text-align: right;\n",
       "    }\n",
       "</style>\n",
       "<table border=\"1\" class=\"dataframe\">\n",
       "  <thead>\n",
       "    <tr style=\"text-align: right;\">\n",
       "      <th></th>\n",
       "      <th>userid</th>\n",
       "      <th>total</th>\n",
       "      <th>courseid</th>\n",
       "      <th>quiz_avg</th>\n",
       "      <th>quiz_count</th>\n",
       "      <th>studentid</th>\n",
       "    </tr>\n",
       "  </thead>\n",
       "  <tbody>\n",
       "    <tr>\n",
       "      <th>0</th>\n",
       "      <td>7653</td>\n",
       "      <td>99.000000</td>\n",
       "      <td>TsinghuaX/20220332_1X/_</td>\n",
       "      <td>1.000000</td>\n",
       "      <td>45</td>\n",
       "      <td>0</td>\n",
       "    </tr>\n",
       "    <tr>\n",
       "      <th>1</th>\n",
       "      <td>4069</td>\n",
       "      <td>92.500000</td>\n",
       "      <td>TsinghuaX/20220332_1X/_</td>\n",
       "      <td>1.000000</td>\n",
       "      <td>45</td>\n",
       "      <td>1</td>\n",
       "    </tr>\n",
       "    <tr>\n",
       "      <th>2</th>\n",
       "      <td>19624</td>\n",
       "      <td>91.611111</td>\n",
       "      <td>TsinghuaX/20220332_1X/_</td>\n",
       "      <td>0.988889</td>\n",
       "      <td>45</td>\n",
       "      <td>2</td>\n",
       "    </tr>\n",
       "    <tr>\n",
       "      <th>3</th>\n",
       "      <td>7580</td>\n",
       "      <td>90.507122</td>\n",
       "      <td>TsinghuaX/20220332_1X/_</td>\n",
       "      <td>0.957407</td>\n",
       "      <td>45</td>\n",
       "      <td>3</td>\n",
       "    </tr>\n",
       "    <tr>\n",
       "      <th>4</th>\n",
       "      <td>8104</td>\n",
       "      <td>89.403846</td>\n",
       "      <td>TsinghuaX/20220332_1X/_</td>\n",
       "      <td>1.000000</td>\n",
       "      <td>45</td>\n",
       "      <td>4</td>\n",
       "    </tr>\n",
       "  </tbody>\n",
       "</table>\n",
       "</div>"
      ],
      "text/plain": [
       "   userid      total                 courseid  quiz_avg  quiz_count  studentid\n",
       "0    7653  99.000000  TsinghuaX/20220332_1X/_  1.000000          45          0\n",
       "1    4069  92.500000  TsinghuaX/20220332_1X/_  1.000000          45          1\n",
       "2   19624  91.611111  TsinghuaX/20220332_1X/_  0.988889          45          2\n",
       "3    7580  90.507122  TsinghuaX/20220332_1X/_  0.957407          45          3\n",
       "4    8104  89.403846  TsinghuaX/20220332_1X/_  1.000000          45          4"
      ]
     },
     "execution_count": 9,
     "metadata": {},
     "output_type": "execute_result"
    }
   ],
   "source": [
    "grade_df = pd.concat(grades)\n",
    "grade_df['studentid'] = list(range(grade_df.shape[0]))\n",
    "grade_df.head()"
   ]
  },
  {
   "cell_type": "markdown",
   "metadata": {},
   "source": [
    "# log forum"
   ]
  },
  {
   "cell_type": "code",
   "execution_count": 16,
   "metadata": {},
   "outputs": [
    {
     "name": "stderr",
     "output_type": "stream",
     "text": [
      "/root/miniconda3/lib/python3.8/site-packages/openpyxl/worksheet/_reader.py:329: UserWarning: Unknown extension is not supported and will be removed\n",
      "  warn(msg)\n"
     ]
    }
   ],
   "source": [
    "log = pd.read_excel('./数据处理/log.xlsx')\n",
    "forum = pd.read_excel('./数据处理/forum.xlsx')"
   ]
  },
  {
   "cell_type": "code",
   "execution_count": 17,
   "metadata": {},
   "outputs": [
    {
     "name": "stderr",
     "output_type": "stream",
     "text": [
      "/tmp/ipykernel_983/3002759336.py:10: FutureWarning: Index.ravel returning ndarray is deprecated; in a future version this will return a view on self.\n",
      "  result.columns = [\"_\".join(x) for x in result.columns.ravel()]\n"
     ]
    },
    {
     "data": {
      "text/html": [
       "<div>\n",
       "<style scoped>\n",
       "    .dataframe tbody tr th:only-of-type {\n",
       "        vertical-align: middle;\n",
       "    }\n",
       "\n",
       "    .dataframe tbody tr th {\n",
       "        vertical-align: top;\n",
       "    }\n",
       "\n",
       "    .dataframe thead th {\n",
       "        text-align: right;\n",
       "    }\n",
       "</style>\n",
       "<table border=\"1\" class=\"dataframe\">\n",
       "  <thead>\n",
       "    <tr style=\"text-align: right;\">\n",
       "      <th></th>\n",
       "      <th>userid</th>\n",
       "      <th>courseid</th>\n",
       "      <th>video_sum</th>\n",
       "      <th>video_count</th>\n",
       "      <th>assignment_sum</th>\n",
       "      <th>assignment_count</th>\n",
       "    </tr>\n",
       "  </thead>\n",
       "  <tbody>\n",
       "    <tr>\n",
       "      <th>0</th>\n",
       "      <td>1</td>\n",
       "      <td>TsinghuaX/00690242_1X/_</td>\n",
       "      <td>72.815582</td>\n",
       "      <td>5</td>\n",
       "      <td>1.519474</td>\n",
       "      <td>1</td>\n",
       "    </tr>\n",
       "    <tr>\n",
       "      <th>1</th>\n",
       "      <td>1</td>\n",
       "      <td>TsinghuaX/20220332_1X/_</td>\n",
       "      <td>0.000000</td>\n",
       "      <td>0</td>\n",
       "      <td>848.274412</td>\n",
       "      <td>3</td>\n",
       "    </tr>\n",
       "    <tr>\n",
       "      <th>2</th>\n",
       "      <td>1</td>\n",
       "      <td>TsinghuaX/80000901_1X/_</td>\n",
       "      <td>334.503000</td>\n",
       "      <td>1</td>\n",
       "      <td>0.000000</td>\n",
       "      <td>0</td>\n",
       "    </tr>\n",
       "    <tr>\n",
       "      <th>3</th>\n",
       "      <td>4</td>\n",
       "      <td>TsinghuaX/00690242_1X/_</td>\n",
       "      <td>96.214645</td>\n",
       "      <td>3</td>\n",
       "      <td>12.124429</td>\n",
       "      <td>1</td>\n",
       "    </tr>\n",
       "    <tr>\n",
       "      <th>4</th>\n",
       "      <td>4</td>\n",
       "      <td>TsinghuaX/00720091X/_</td>\n",
       "      <td>1587.883000</td>\n",
       "      <td>2</td>\n",
       "      <td>14.567349</td>\n",
       "      <td>1</td>\n",
       "    </tr>\n",
       "  </tbody>\n",
       "</table>\n",
       "</div>"
      ],
      "text/plain": [
       "   userid                 courseid    video_sum  video_count  assignment_sum  \\\n",
       "0       1  TsinghuaX/00690242_1X/_    72.815582            5        1.519474   \n",
       "1       1  TsinghuaX/20220332_1X/_     0.000000            0      848.274412   \n",
       "2       1  TsinghuaX/80000901_1X/_   334.503000            1        0.000000   \n",
       "3       4  TsinghuaX/00690242_1X/_    96.214645            3       12.124429   \n",
       "4       4    TsinghuaX/00720091X/_  1587.883000            2       14.567349   \n",
       "\n",
       "   assignment_count  \n",
       "0                 1  \n",
       "1                 3  \n",
       "2                 0  \n",
       "3                 1  \n",
       "4                 1  "
      ]
     },
     "execution_count": 17,
     "metadata": {},
     "output_type": "execute_result"
    }
   ],
   "source": [
    "def count_log_series(series):\n",
    "    count = len(series[series!=0])\n",
    "    return count\n",
    "# 按 userid 和 course 分组，并对 video 和 assignment 求和\n",
    "# 对组内的video和assignment求和并统计它们的次数\n",
    "agg_dict = {\"video\": [\"sum\", count_log_series], \"assignment\": [\"sum\", count_log_series]}\n",
    "result = log.groupby([\"userid\", \"course\"]).agg(agg_dict)\n",
    "\n",
    "# 重命名聚合后的列名\n",
    "result.columns = [\"_\".join(x) for x in result.columns.ravel()]\n",
    "\n",
    "# 重置索引以使组名成为列\n",
    "log_dataset = result.reset_index()\n",
    "# log_dataset['studentid'] = list(range(log_dataset.shape[0]))\n",
    "log_dataset.columns = ['userid', 'courseid', 'video_sum', 'video_count', 'assignment_sum',\n",
    "       'assignment_count']\n",
    "log_dataset.head()"
   ]
  },
  {
   "cell_type": "code",
   "execution_count": 18,
   "metadata": {},
   "outputs": [
    {
     "data": {
      "text/html": [
       "<div>\n",
       "<style scoped>\n",
       "    .dataframe tbody tr th:only-of-type {\n",
       "        vertical-align: middle;\n",
       "    }\n",
       "\n",
       "    .dataframe tbody tr th {\n",
       "        vertical-align: top;\n",
       "    }\n",
       "\n",
       "    .dataframe thead th {\n",
       "        text-align: right;\n",
       "    }\n",
       "</style>\n",
       "<table border=\"1\" class=\"dataframe\">\n",
       "  <thead>\n",
       "    <tr style=\"text-align: right;\">\n",
       "      <th></th>\n",
       "      <th>userid</th>\n",
       "      <th>courseid</th>\n",
       "      <th>forum_count</th>\n",
       "    </tr>\n",
       "  </thead>\n",
       "  <tbody>\n",
       "    <tr>\n",
       "      <th>0</th>\n",
       "      <td>1</td>\n",
       "      <td>tsinghuax/cs001/test</td>\n",
       "      <td>2</td>\n",
       "    </tr>\n",
       "    <tr>\n",
       "      <th>1</th>\n",
       "      <td>2</td>\n",
       "      <td>tsinghuax/cs001/test</td>\n",
       "      <td>5</td>\n",
       "    </tr>\n",
       "    <tr>\n",
       "      <th>2</th>\n",
       "      <td>5</td>\n",
       "      <td>CS/CPP/C_</td>\n",
       "      <td>1</td>\n",
       "    </tr>\n",
       "    <tr>\n",
       "      <th>3</th>\n",
       "      <td>5</td>\n",
       "      <td>CS/CSCareer/_</td>\n",
       "      <td>4</td>\n",
       "    </tr>\n",
       "    <tr>\n",
       "      <th>4</th>\n",
       "      <td>5</td>\n",
       "      <td>CS/TsinghuaX/TsinghuaX_</td>\n",
       "      <td>5</td>\n",
       "    </tr>\n",
       "  </tbody>\n",
       "</table>\n",
       "</div>"
      ],
      "text/plain": [
       "   userid                 courseid  forum_count\n",
       "0       1     tsinghuax/cs001/test            2\n",
       "1       2     tsinghuax/cs001/test            5\n",
       "2       5                CS/CPP/C_            1\n",
       "3       5            CS/CSCareer/_            4\n",
       "4       5  CS/TsinghuaX/TsinghuaX_            5"
      ]
     },
     "execution_count": 18,
     "metadata": {},
     "output_type": "execute_result"
    }
   ],
   "source": [
    "# 按照userid和courseid分组，对body进行计数\n",
    "result = forum.groupby(['userid', 'courseid'])['body'].count()\n",
    "forum_dataset = result.reset_index()\n",
    "forum_dataset.columns = ['userid', 'courseid', 'forum_count']\n",
    "forum_dataset.head()"
   ]
  },
  {
   "cell_type": "markdown",
   "metadata": {},
   "source": [
    "\n",
    "# 聚合、"
   ]
  },
  {
   "cell_type": "code",
   "execution_count": null,
   "metadata": {},
   "outputs": [],
   "source": [
    "df = grade_df.merge(dataset_df, on=['userid', 'courseid'], how='left').merge(log_dataset, on=['userid', 'courseid'], how='left').merge(forum_dataset, on=['userid', 'courseid'], how='left')"
   ]
  },
  {
   "cell_type": "code",
   "execution_count": null,
   "metadata": {},
   "outputs": [],
   "source": [
    "df"
   ]
  },
  {
   "cell_type": "code",
   "execution_count": null,
   "metadata": {},
   "outputs": [],
   "source": [
    "df = df[['studentid','userid', 'courseid', 'video_count', 'video_sum',\n",
    "      'assignment_count', 'assignment_sum', 'forum_count', 'quiz_avg', 'quiz_count','total']]\n",
    "df['learning_achivement'] = (df['total']<60)+0\n"
   ]
  },
  {
   "cell_type": "code",
   "execution_count": null,
   "metadata": {},
   "outputs": [],
   "source": [
    "df.to_excel('./count-result-final.xlsx', index=False)"
   ]
  },
  {
   "cell_type": "code",
   "execution_count": null,
   "metadata": {},
   "outputs": [],
   "source": [
    "df = df.dropna(subset=['video_count', 'video_sum',\n",
    "      'assignment_count', 'assignment_sum', 'forum_count'], how='all')\n",
    "df = df.fillna(value=0)"
   ]
  },
  {
   "cell_type": "code",
   "execution_count": null,
   "metadata": {},
   "outputs": [],
   "source": [
    "\n",
    "df.to_excel('./count-result-final-drop-space.xlsx', index=False)"
   ]
  },
  {
   "cell_type": "code",
   "execution_count": null,
   "metadata": {},
   "outputs": [],
   "source": [
    "df"
   ]
  },
  {
   "cell_type": "markdown",
   "metadata": {},
   "source": [
    "# plot"
   ]
  },
  {
   "cell_type": "code",
   "execution_count": null,
   "metadata": {},
   "outputs": [],
   "source": [
    "import pandas as pd\n",
    "import matplotlib.pyplot as plt\n",
    "def six_course_count(col):\n",
    "    curr_df = df[['courseid'] + [col]]\n",
    "    if col == 'studentid':\n",
    "        count = curr_df.groupby('courseid').size()\n",
    "    else:\n",
    "        count = curr_df.groupby('courseid').sum()\n",
    "    return count\n",
    "\n",
    "# df = pd.read_excel('./count-result-final-drop-space.xlsx')\n",
    "df = pd.read_excel('./59581.xlsx')\n",
    "# 可以选这几个 studentid video_count assignment_count forum_count\n",
    "col = 'video_count'\n",
    "count = six_course_count(col)\n",
    "count.plot(kind='bar')        \n",
    "plt.ylabel(col)"
   ]
  },
  {
   "cell_type": "code",
   "execution_count": null,
   "metadata": {},
   "outputs": [],
   "source": []
  },
  {
   "cell_type": "code",
   "execution_count": null,
   "metadata": {},
   "outputs": [],
   "source": []
  },
  {
   "cell_type": "code",
   "execution_count": null,
   "metadata": {},
   "outputs": [],
   "source": []
  },
  {
   "cell_type": "code",
   "execution_count": null,
   "metadata": {},
   "outputs": [],
   "source": []
  }
 ],
 "metadata": {
  "kernelspec": {
   "display_name": "Python 3 (ipykernel)",
   "language": "python",
   "name": "python3"
  },
  "language_info": {
   "codemirror_mode": {
    "name": "ipython",
    "version": 3
   },
   "file_extension": ".py",
   "mimetype": "text/x-python",
   "name": "python",
   "nbconvert_exporter": "python",
   "pygments_lexer": "ipython3",
   "version": "3.8.10"
  }
 },
 "nbformat": 4,
 "nbformat_minor": 4
}
